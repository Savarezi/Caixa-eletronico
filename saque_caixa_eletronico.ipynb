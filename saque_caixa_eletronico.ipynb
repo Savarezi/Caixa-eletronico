{
  "nbformat": 4,
  "nbformat_minor": 0,
  "metadata": {
    "colab": {
      "provenance": [],
      "toc_visible": true,
      "authorship_tag": "ABX9TyPHpmbiQgyqX5IxLsUNKyZK",
      "include_colab_link": true
    },
    "kernelspec": {
      "name": "python3",
      "display_name": "Python 3"
    },
    "language_info": {
      "name": "python"
    }
  },
  "cells": [
    {
      "cell_type": "markdown",
      "metadata": {
        "id": "view-in-github",
        "colab_type": "text"
      },
      "source": [
        "<a href=\"https://colab.research.google.com/github/Savarezi/Caixa-eletronico/blob/main/saque_caixa_eletronico.ipynb\" target=\"_parent\"><img src=\"https://colab.research.google.com/assets/colab-badge.svg\" alt=\"Open In Colab\"/></a>"
      ]
    },
    {
      "cell_type": "code",
      "execution_count": null,
      "metadata": {
        "id": "topNmGPxXSUE"
      },
      "outputs": [],
      "source": []
    },
    {
      "cell_type": "markdown",
      "source": [
        "* Saque Caixa Eletronico\n",
        "\n",
        "\n",
        "\n",
        "📌 O que o programa faz?\n",
        "Esse programa simula o que um caixa eletrônico faz quando alguém vai sacar dinheiro.\n",
        "\n",
        "🏦 Como funciona?\n",
        "A pessoa informa o valor que deseja sacar, por exemplo: R$180.\n",
        "\n",
        "O programa então calcula quantas notas de cada valor são necessárias para formar esse valor, usando as notas que o caixa eletrônico tem disponíveis (por exemplo: R$100, R$50, R$20, R$10 e R$5).\n",
        "\n",
        "Ele sempre começa pelas maiores notas. Assim, ele primeiro verifica se pode entregar alguma nota de R$100. Se sim, entrega o máximo possível. Depois verifica as de R$50, depois R$20, e assim por diante.\n",
        "\n",
        "A cada vez que entrega notas, o programa atualiza o valor que ainda falta entregar. E repete esse processo até completar todo o valor do saque.\n",
        "\n",
        "✅ Exemplo:\n",
        "Se você pedir para sacar R$180, o programa vai fazer isso:\n",
        "\n",
        "Verifica se dá pra tirar nota de R$100 → Sim, dá pra tirar 1 nota\n",
        "\n",
        "Ainda falta R$80 → Verifica R$50 → Dá pra tirar 1 nota\n",
        "\n",
        "Ainda falta R$30 → Verifica R$20 → Dá pra tirar 1 nota\n",
        "\n",
        "Ainda falta R$10 → Verifica R$10 → Dá pra tirar 1 nota\n",
        "\n",
        "Agora falta R$0 → Pronto, saque completo!\n",
        "\n",
        "O caixa eletrônico “entrega”:\n",
        "\n",
        "1 nota de R$100\n",
        "\n",
        "1 nota de R$50\n",
        "\n",
        "1 nota de R$20\n",
        "\n",
        "1 nota de R$10\n",
        "\n",
        "🎯 Objetivo:\n",
        "O objetivo é entregar o valor exato do saque usando o menor número de notas possíveis, começando sempre pelas de maior valor."
      ],
      "metadata": {
        "id": "cl2COifzXwuT"
      }
    },
    {
      "cell_type": "markdown",
      "source": [],
      "metadata": {
        "id": "LOZ6I_69b86s"
      }
    },
    {
      "cell_type": "code",
      "source": [
        "def saca_dinheiro(valor):\n",
        "    notas = [100, 50, 20, 10, 5]\n",
        "    print(f\"Sacando R$ {valor}...\")\n",
        "    for nota in notas:\n",
        "        quantidade = valor // nota\n",
        "        if quantidade > 0:\n",
        "            print(f\"{quantidade} nota(s) de R$ {nota}\")\n",
        "            valor %= nota\n",
        "\n",
        "valor_saque = int(input(\"Digite o valor do saque: \"))\n",
        "saca_dinheiro(valor_saque)\n"
      ],
      "metadata": {
        "id": "LtrgzY7gXpaQ"
      },
      "execution_count": null,
      "outputs": []
    }
  ]
}